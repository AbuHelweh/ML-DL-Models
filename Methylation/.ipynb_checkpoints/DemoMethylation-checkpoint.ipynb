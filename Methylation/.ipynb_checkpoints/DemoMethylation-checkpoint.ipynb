{
 "cells": [
  {
   "cell_type": "markdown",
   "metadata": {},
   "source": [
    "## Transfer learning  Based on ResNet34 for Methylation Data"
   ]
  },
  {
   "cell_type": "markdown",
   "metadata": {},
   "source": [
    "The network in this notebook is an implementation of the ResNet-50 [1] architecture on the CelebA face dataset [2] to train a gender classifier.  \n",
    "\n",
    "\n",
    "References\n",
    "    \n",
    "- [1] He, K., Zhang, X., Ren, S., & Sun, J. (2016). Deep residual learning for image recognition. In Proceedings of the IEEE conference on computer vision and pattern recognition (pp. 770-778). ([CVPR Link](https://www.cv-foundation.org/openaccess/content_cvpr_2016/html/He_Deep_Residual_Learning_CVPR_2016_paper.html))\n",
    "\n",
    "- [2] Zhang, K., Tan, L., Li, Z., & Qiao, Y. (2016). Gender and smile classification using deep convolutional neural networks. In Proceedings of the IEEE Conference on Computer Vision and Pattern Recognition Workshops (pp. 34-38).\n",
    "\n",
    "The ResNet-50 architecture is similar to the ResNet-34 architecture shown below (from [1]):\n",
    "\n",
    "\n",
    "![](resnets/resnet34/resnet34-arch.png)\n",
    "\n",
    "However, in ResNet-50, the skip connection uses a bottleneck (from [1]):\n",
    "\n",
    "\n",
    "![](resnets/resnet50/resnet50-arch-1.png)\n",
    "\n"
   ]
  },
  {
   "cell_type": "markdown",
   "metadata": {},
   "source": [
    "The following figure illustrates residual blocks with skip connections such that the input passed via the shortcut matches the dimensions of the main path's output, which allows the network to learn identity functions.\n",
    "\n",
    "![](resnets/resnet-ex-1-1.png)\n",
    "\n",
    "\n",
    "The ResNet-34 architecture actually uses residual blocks with skip connections such that the input passed via the shortcut matches is resized to dimensions of the main path's output. Such a residual block is illustrated below:\n",
    "\n",
    "![](resnets/resnet-ex-1-2.png)\n",
    "\n",
    "The ResNet-50 uses a bottleneck as shown below:\n",
    "\n",
    "![](resnets/resnet-ex-1-3.png)"
   ]
  },
  {
   "cell_type": "code",
   "execution_count": 1,
   "metadata": {},
   "outputs": [],
   "source": [
    "%load_ext autoreload\n",
    "%autoreload 2"
   ]
  },
  {
   "cell_type": "code",
   "execution_count": 96,
   "metadata": {},
   "outputs": [],
   "source": [
    "import os\n",
    "from pathlib import PosixPath\n",
    "import time"
   ]
  },
  {
   "cell_type": "code",
   "execution_count": 3,
   "metadata": {},
   "outputs": [],
   "source": [
    "import pandas as pd\n",
    "import numpy as np"
   ]
  },
  {
   "cell_type": "code",
   "execution_count": 80,
   "metadata": {},
   "outputs": [],
   "source": [
    "import torch\n",
    "import torch.nn as nn\n",
    "import torch.optim as optim\n",
    "import torchvision\n",
    "from torch.utils.data import Dataset, DataLoader\n",
    "from torchvision import datasets, models, transforms\n",
    "import matplotlib.pyplot as plt\n",
    "import torch.nn.functional as F\n",
    "from torchsummary import summary"
   ]
  },
  {
   "cell_type": "markdown",
   "metadata": {},
   "source": [
    "## Settings"
   ]
  },
  {
   "cell_type": "code",
   "execution_count": 124,
   "metadata": {},
   "outputs": [],
   "source": [
    "## Hyper-paremeters\n",
    "BATCH_SIZE = 5\n",
    "NUM_EPOCHS = 10\n",
    "LEARNING_RATE = 0.0001\n",
    "RANDOM_SEED = 42\n",
    "\n",
    "\n",
    "## Model Architecture\n",
    "NUM_CLASSES = 2\n",
    "\n",
    "DEVICE = torch.device(\"cuda: 0\" if torch.cuda.is_available() else \"cpu\")"
   ]
  },
  {
   "cell_type": "markdown",
   "metadata": {},
   "source": [
    "## Dataset explore"
   ]
  },
  {
   "cell_type": "markdown",
   "metadata": {},
   "source": [
    "[Dataset Link](https://www.ncbi.nlm.nih.gov/geo/query/acc.cgi?acc=GSE66695)\n",
    "\n",
    "Summary\tGenome wide DNA methylation profiling of normal and breast cancer samples. The Illumina Infinium 450k Human DNA methylation Beadchip v1.1 was used to obtain DNA methylation profiles across approximately 485577 CpGs in breast cancer and normal samples. Samples included 40 normal, 80 breast cancer samples.\n",
    " \t\n",
    "Overall design\tBisulphite converted DNA from the 120 samples were hybridised to the Illumina Infinium 450k Human Methylation Beadchip v1.1"
   ]
  },
  {
   "cell_type": "code",
   "execution_count": 125,
   "metadata": {},
   "outputs": [],
   "source": [
    "root_dir = PosixPath(\".\")\n",
    "dataset_path = \"GSE66695_series_matrix.txt\""
   ]
  },
  {
   "cell_type": "code",
   "execution_count": 126,
   "metadata": {},
   "outputs": [],
   "source": [
    "data_matrix  = pd.read_table(root_dir/dataset_path)"
   ]
  },
  {
   "cell_type": "code",
   "execution_count": 127,
   "metadata": {},
   "outputs": [
    {
     "data": {
      "text/html": [
       "<div>\n",
       "<style scoped>\n",
       "    .dataframe tbody tr th:only-of-type {\n",
       "        vertical-align: middle;\n",
       "    }\n",
       "\n",
       "    .dataframe tbody tr th {\n",
       "        vertical-align: top;\n",
       "    }\n",
       "\n",
       "    .dataframe thead th {\n",
       "        text-align: right;\n",
       "    }\n",
       "</style>\n",
       "<table border=\"1\" class=\"dataframe\">\n",
       "  <thead>\n",
       "    <tr style=\"text-align: right;\">\n",
       "      <th></th>\n",
       "      <th>ID_REF</th>\n",
       "      <th>GSM1629194</th>\n",
       "      <th>GSM1629195</th>\n",
       "      <th>GSM1629196</th>\n",
       "      <th>GSM1629197</th>\n",
       "      <th>GSM1629198</th>\n",
       "      <th>GSM1629199</th>\n",
       "      <th>GSM1629200</th>\n",
       "      <th>GSM1629201</th>\n",
       "      <th>GSM1629202</th>\n",
       "      <th>...</th>\n",
       "      <th>GSM1629304</th>\n",
       "      <th>GSM1629305</th>\n",
       "      <th>GSM1629306</th>\n",
       "      <th>GSM1629307</th>\n",
       "      <th>GSM1629308</th>\n",
       "      <th>GSM1629309</th>\n",
       "      <th>GSM1629310</th>\n",
       "      <th>GSM1629311</th>\n",
       "      <th>GSM1629312</th>\n",
       "      <th>GSM1629313</th>\n",
       "    </tr>\n",
       "  </thead>\n",
       "  <tbody>\n",
       "    <tr>\n",
       "      <th>0</th>\n",
       "      <td>cg00000029</td>\n",
       "      <td>0.334061</td>\n",
       "      <td>0.178954</td>\n",
       "      <td>0.172730</td>\n",
       "      <td>0.183075</td>\n",
       "      <td>0.072717</td>\n",
       "      <td>0.195457</td>\n",
       "      <td>0.287615</td>\n",
       "      <td>0.339056</td>\n",
       "      <td>0.195401</td>\n",
       "      <td>...</td>\n",
       "      <td>0.171595</td>\n",
       "      <td>0.220228</td>\n",
       "      <td>0.224031</td>\n",
       "      <td>0.096429</td>\n",
       "      <td>0.226318</td>\n",
       "      <td>0.169211</td>\n",
       "      <td>0.215496</td>\n",
       "      <td>0.181659</td>\n",
       "      <td>0.424289</td>\n",
       "      <td>0.168877</td>\n",
       "    </tr>\n",
       "    <tr>\n",
       "      <th>1</th>\n",
       "      <td>cg00000108</td>\n",
       "      <td>0.935733</td>\n",
       "      <td>0.937377</td>\n",
       "      <td>0.929570</td>\n",
       "      <td>0.924546</td>\n",
       "      <td>0.922173</td>\n",
       "      <td>0.880320</td>\n",
       "      <td>0.909696</td>\n",
       "      <td>0.929620</td>\n",
       "      <td>0.903362</td>\n",
       "      <td>...</td>\n",
       "      <td>0.915011</td>\n",
       "      <td>0.909828</td>\n",
       "      <td>0.918342</td>\n",
       "      <td>0.944021</td>\n",
       "      <td>0.935265</td>\n",
       "      <td>0.929773</td>\n",
       "      <td>0.901808</td>\n",
       "      <td>0.907297</td>\n",
       "      <td>0.917796</td>\n",
       "      <td>0.932770</td>\n",
       "    </tr>\n",
       "    <tr>\n",
       "      <th>2</th>\n",
       "      <td>cg00000109</td>\n",
       "      <td>0.874611</td>\n",
       "      <td>0.738671</td>\n",
       "      <td>0.741349</td>\n",
       "      <td>0.856688</td>\n",
       "      <td>0.871578</td>\n",
       "      <td>0.686862</td>\n",
       "      <td>0.730466</td>\n",
       "      <td>0.850274</td>\n",
       "      <td>0.712961</td>\n",
       "      <td>...</td>\n",
       "      <td>0.838718</td>\n",
       "      <td>0.772767</td>\n",
       "      <td>0.737013</td>\n",
       "      <td>0.892180</td>\n",
       "      <td>0.854146</td>\n",
       "      <td>0.688073</td>\n",
       "      <td>0.756057</td>\n",
       "      <td>0.732730</td>\n",
       "      <td>0.828793</td>\n",
       "      <td>0.879740</td>\n",
       "    </tr>\n",
       "    <tr>\n",
       "      <th>3</th>\n",
       "      <td>cg00000165</td>\n",
       "      <td>0.593666</td>\n",
       "      <td>0.251576</td>\n",
       "      <td>0.258572</td>\n",
       "      <td>0.332309</td>\n",
       "      <td>0.277692</td>\n",
       "      <td>0.161782</td>\n",
       "      <td>0.205542</td>\n",
       "      <td>0.543108</td>\n",
       "      <td>0.227433</td>\n",
       "      <td>...</td>\n",
       "      <td>0.202314</td>\n",
       "      <td>0.249808</td>\n",
       "      <td>0.230911</td>\n",
       "      <td>0.136585</td>\n",
       "      <td>0.380056</td>\n",
       "      <td>0.237408</td>\n",
       "      <td>0.229581</td>\n",
       "      <td>0.246965</td>\n",
       "      <td>0.178193</td>\n",
       "      <td>0.655175</td>\n",
       "    </tr>\n",
       "    <tr>\n",
       "      <th>4</th>\n",
       "      <td>cg00000236</td>\n",
       "      <td>0.864638</td>\n",
       "      <td>0.820130</td>\n",
       "      <td>0.800612</td>\n",
       "      <td>0.884483</td>\n",
       "      <td>0.862696</td>\n",
       "      <td>0.802741</td>\n",
       "      <td>0.793261</td>\n",
       "      <td>0.838466</td>\n",
       "      <td>0.798712</td>\n",
       "      <td>...</td>\n",
       "      <td>0.891121</td>\n",
       "      <td>0.793986</td>\n",
       "      <td>0.839779</td>\n",
       "      <td>0.868582</td>\n",
       "      <td>0.857674</td>\n",
       "      <td>0.830082</td>\n",
       "      <td>0.802358</td>\n",
       "      <td>0.801136</td>\n",
       "      <td>0.888044</td>\n",
       "      <td>0.861329</td>\n",
       "    </tr>\n",
       "  </tbody>\n",
       "</table>\n",
       "<p>5 rows × 121 columns</p>\n",
       "</div>"
      ],
      "text/plain": [
       "       ID_REF  GSM1629194  GSM1629195  GSM1629196  GSM1629197  GSM1629198  \\\n",
       "0  cg00000029    0.334061    0.178954    0.172730    0.183075    0.072717   \n",
       "1  cg00000108    0.935733    0.937377    0.929570    0.924546    0.922173   \n",
       "2  cg00000109    0.874611    0.738671    0.741349    0.856688    0.871578   \n",
       "3  cg00000165    0.593666    0.251576    0.258572    0.332309    0.277692   \n",
       "4  cg00000236    0.864638    0.820130    0.800612    0.884483    0.862696   \n",
       "\n",
       "   GSM1629199  GSM1629200  GSM1629201  GSM1629202     ...      GSM1629304  \\\n",
       "0    0.195457    0.287615    0.339056    0.195401     ...        0.171595   \n",
       "1    0.880320    0.909696    0.929620    0.903362     ...        0.915011   \n",
       "2    0.686862    0.730466    0.850274    0.712961     ...        0.838718   \n",
       "3    0.161782    0.205542    0.543108    0.227433     ...        0.202314   \n",
       "4    0.802741    0.793261    0.838466    0.798712     ...        0.891121   \n",
       "\n",
       "   GSM1629305  GSM1629306  GSM1629307  GSM1629308  GSM1629309  GSM1629310  \\\n",
       "0    0.220228    0.224031    0.096429    0.226318    0.169211    0.215496   \n",
       "1    0.909828    0.918342    0.944021    0.935265    0.929773    0.901808   \n",
       "2    0.772767    0.737013    0.892180    0.854146    0.688073    0.756057   \n",
       "3    0.249808    0.230911    0.136585    0.380056    0.237408    0.229581   \n",
       "4    0.793986    0.839779    0.868582    0.857674    0.830082    0.802358   \n",
       "\n",
       "   GSM1629311  GSM1629312  GSM1629313  \n",
       "0    0.181659    0.424289    0.168877  \n",
       "1    0.907297    0.917796    0.932770  \n",
       "2    0.732730    0.828793    0.879740  \n",
       "3    0.246965    0.178193    0.655175  \n",
       "4    0.801136    0.888044    0.861329  \n",
       "\n",
       "[5 rows x 121 columns]"
      ]
     },
     "execution_count": 127,
     "metadata": {},
     "output_type": "execute_result"
    }
   ],
   "source": [
    "data_matrix.head()"
   ]
  },
  {
   "cell_type": "code",
   "execution_count": 128,
   "metadata": {
    "scrolled": true
   },
   "outputs": [
    {
     "data": {
      "text/plain": [
       "(485578, 121)"
      ]
     },
     "execution_count": 128,
     "metadata": {},
     "output_type": "execute_result"
    }
   ],
   "source": [
    "data_matrix.shape"
   ]
  },
  {
   "cell_type": "code",
   "execution_count": 129,
   "metadata": {},
   "outputs": [],
   "source": [
    "data_matrix.drop(\"ID_REF\", inplace=True, axis = 1)"
   ]
  },
  {
   "cell_type": "code",
   "execution_count": 130,
   "metadata": {},
   "outputs": [],
   "source": [
    "sample_names = \"GSM1629194 GSM1629195 GSM1629196 GSM1629197 GSM1629198 GSM1629199 GSM1629200 GSM1629201 GSM1629202 GSM1629203 GSM1629204 GSM1629205 GSM1629206 GSM1629207 GSM1629208 GSM1629209 GSM1629210 GSM1629211 GSM1629212 GSM1629213 GSM1629214 GSM1629215 GSM1629216 GSM1629217 GSM1629218 GSM1629219 GSM1629220 GSM1629221 GSM1629222 GSM1629223 GSM1629224 GSM1629225 GSM1629226 GSM1629227 GSM1629228 GSM1629229 GSM1629230 GSM1629231 GSM1629232 GSM1629233 GSM1629234 GSM1629235 GSM1629236 GSM1629237 GSM1629238 GSM1629239 GSM1629240 GSM1629241 GSM1629242 GSM1629243 GSM1629244 GSM1629245 GSM1629246 GSM1629247 GSM1629248 GSM1629249 GSM1629250 GSM1629251 GSM1629252 GSM1629253 GSM1629254 GSM1629255 GSM1629256 GSM1629257 GSM1629258 GSM1629259 GSM1629260 GSM1629261 GSM1629262 GSM1629263 GSM1629264 GSM1629265 GSM1629266 GSM1629267 GSM1629268 GSM1629269 GSM1629270 GSM1629271 GSM1629272 GSM1629273 GSM1629274 GSM1629275 GSM1629276 GSM1629277 GSM1629278 GSM1629279 GSM1629280 GSM1629281 GSM1629282 GSM1629283 GSM1629284 GSM1629285 GSM1629286 GSM1629287 GSM1629288 GSM1629289 GSM1629290 GSM1629291 GSM1629292 GSM1629293 GSM1629294 GSM1629295 GSM1629296 GSM1629297 GSM1629298 GSM1629299 GSM1629300 GSM1629301 GSM1629302 GSM1629303 GSM1629304 GSM1629305 GSM1629306 GSM1629307 GSM1629308 GSM1629309 GSM1629310 GSM1629311 GSM1629312 GSM1629313\"\n",
    "sample_title = \"01-208-T  01-254-N  01-212-N  01-254-T  01-212-T  01-265-N  01-237-N  01-265-T  01-242-N  01-302-N  01-242-T  01-302-T  00-105-T  00-395-T  00-135-T  00-409-T  00-151-T  00-401-T  00-172-T  00-480-T  00-185-T  00-522-T  00-225-T  00-529-T  00-530-T  00-462-N  00-525-N  00-525-T  99-029-T  99-301-T  99-066-T  00-200-T  99-165-T  00-292-T  99-188-T  00-301-T  99-225-T  01-201-T  99-260-T  01-218-T  01-219-T  01-367-T  01-262-T  99-066-N  01-273-T  01-255-N  01-276-T  01-367-N  01-280-T  01-298-N  01-340-T  01-298-T  00-218-T  BS66770-N 00-291-N  BS66755-N 00-291-T  BS66498-N 01-060-T  BS66689-N 00-012-N  BS66172-N 00-012-T  BS66352-N 67777-N   67763-T   BS66770-T 67777-T   BS66352-T BS66755-T BS66689-T BS66459-T 00-144-N  00-391-T  00-164-N  01-015-N  00-218-N  01-015-T  01-123-T  01-045-T  00-359-T  01-061-N  00-360-T  01-061-T  01-066-T  01-168-T  01-116-T  01-169-T  01-144-N  01-177-N  01-144-T  01-177-T  01-148-T  01-186-N  01-168-N  01-186-T  01-199-N  99-273-N  01-199-T  99-312-T  99-013-T  99-312-T-2    99-073-T  99-344-T  99-217-N  99-359-N  99-217-T  99-369-N  99-387-T  99-506-T  99-388-T  99-523-N  99-403-N  99-523-T  99-403-T  99-536-N  99-468-N  01-083-N  99-468-T  01-083-T\""
   ]
  },
  {
   "cell_type": "code",
   "execution_count": 131,
   "metadata": {},
   "outputs": [],
   "source": [
    "target_dict = {sample: label for sample, label in zip(sample_names.split(), sample_title.split())}"
   ]
  },
  {
   "cell_type": "code",
   "execution_count": 132,
   "metadata": {},
   "outputs": [
    {
     "data": {
      "text/plain": [
       "{'GSM1629194': '01-208-T',\n",
       " 'GSM1629195': '01-254-N',\n",
       " 'GSM1629196': '01-212-N',\n",
       " 'GSM1629197': '01-254-T',\n",
       " 'GSM1629198': '01-212-T',\n",
       " 'GSM1629199': '01-265-N',\n",
       " 'GSM1629200': '01-237-N',\n",
       " 'GSM1629201': '01-265-T',\n",
       " 'GSM1629202': '01-242-N',\n",
       " 'GSM1629203': '01-302-N',\n",
       " 'GSM1629204': '01-242-T',\n",
       " 'GSM1629205': '01-302-T',\n",
       " 'GSM1629206': '00-105-T',\n",
       " 'GSM1629207': '00-395-T',\n",
       " 'GSM1629208': '00-135-T',\n",
       " 'GSM1629209': '00-409-T',\n",
       " 'GSM1629210': '00-151-T',\n",
       " 'GSM1629211': '00-401-T',\n",
       " 'GSM1629212': '00-172-T',\n",
       " 'GSM1629213': '00-480-T',\n",
       " 'GSM1629214': '00-185-T',\n",
       " 'GSM1629215': '00-522-T',\n",
       " 'GSM1629216': '00-225-T',\n",
       " 'GSM1629217': '00-529-T',\n",
       " 'GSM1629218': '00-530-T',\n",
       " 'GSM1629219': '00-462-N',\n",
       " 'GSM1629220': '00-525-N',\n",
       " 'GSM1629221': '00-525-T',\n",
       " 'GSM1629222': '99-029-T',\n",
       " 'GSM1629223': '99-301-T',\n",
       " 'GSM1629224': '99-066-T',\n",
       " 'GSM1629225': '00-200-T',\n",
       " 'GSM1629226': '99-165-T',\n",
       " 'GSM1629227': '00-292-T',\n",
       " 'GSM1629228': '99-188-T',\n",
       " 'GSM1629229': '00-301-T',\n",
       " 'GSM1629230': '99-225-T',\n",
       " 'GSM1629231': '01-201-T',\n",
       " 'GSM1629232': '99-260-T',\n",
       " 'GSM1629233': '01-218-T',\n",
       " 'GSM1629234': '01-219-T',\n",
       " 'GSM1629235': '01-367-T',\n",
       " 'GSM1629236': '01-262-T',\n",
       " 'GSM1629237': '99-066-N',\n",
       " 'GSM1629238': '01-273-T',\n",
       " 'GSM1629239': '01-255-N',\n",
       " 'GSM1629240': '01-276-T',\n",
       " 'GSM1629241': '01-367-N',\n",
       " 'GSM1629242': '01-280-T',\n",
       " 'GSM1629243': '01-298-N',\n",
       " 'GSM1629244': '01-340-T',\n",
       " 'GSM1629245': '01-298-T',\n",
       " 'GSM1629246': '00-218-T',\n",
       " 'GSM1629247': 'BS66770-N',\n",
       " 'GSM1629248': '00-291-N',\n",
       " 'GSM1629249': 'BS66755-N',\n",
       " 'GSM1629250': '00-291-T',\n",
       " 'GSM1629251': 'BS66498-N',\n",
       " 'GSM1629252': '01-060-T',\n",
       " 'GSM1629253': 'BS66689-N',\n",
       " 'GSM1629254': '00-012-N',\n",
       " 'GSM1629255': 'BS66172-N',\n",
       " 'GSM1629256': '00-012-T',\n",
       " 'GSM1629257': 'BS66352-N',\n",
       " 'GSM1629258': '67777-N',\n",
       " 'GSM1629259': '67763-T',\n",
       " 'GSM1629260': 'BS66770-T',\n",
       " 'GSM1629261': '67777-T',\n",
       " 'GSM1629262': 'BS66352-T',\n",
       " 'GSM1629263': 'BS66755-T',\n",
       " 'GSM1629264': 'BS66689-T',\n",
       " 'GSM1629265': 'BS66459-T',\n",
       " 'GSM1629266': '00-144-N',\n",
       " 'GSM1629267': '00-391-T',\n",
       " 'GSM1629268': '00-164-N',\n",
       " 'GSM1629269': '01-015-N',\n",
       " 'GSM1629270': '00-218-N',\n",
       " 'GSM1629271': '01-015-T',\n",
       " 'GSM1629272': '01-123-T',\n",
       " 'GSM1629273': '01-045-T',\n",
       " 'GSM1629274': '00-359-T',\n",
       " 'GSM1629275': '01-061-N',\n",
       " 'GSM1629276': '00-360-T',\n",
       " 'GSM1629277': '01-061-T',\n",
       " 'GSM1629278': '01-066-T',\n",
       " 'GSM1629279': '01-168-T',\n",
       " 'GSM1629280': '01-116-T',\n",
       " 'GSM1629281': '01-169-T',\n",
       " 'GSM1629282': '01-144-N',\n",
       " 'GSM1629283': '01-177-N',\n",
       " 'GSM1629284': '01-144-T',\n",
       " 'GSM1629285': '01-177-T',\n",
       " 'GSM1629286': '01-148-T',\n",
       " 'GSM1629287': '01-186-N',\n",
       " 'GSM1629288': '01-168-N',\n",
       " 'GSM1629289': '01-186-T',\n",
       " 'GSM1629290': '01-199-N',\n",
       " 'GSM1629291': '99-273-N',\n",
       " 'GSM1629292': '01-199-T',\n",
       " 'GSM1629293': '99-312-T',\n",
       " 'GSM1629294': '99-013-T',\n",
       " 'GSM1629295': '99-312-T-2',\n",
       " 'GSM1629296': '99-073-T',\n",
       " 'GSM1629297': '99-344-T',\n",
       " 'GSM1629298': '99-217-N',\n",
       " 'GSM1629299': '99-359-N',\n",
       " 'GSM1629300': '99-217-T',\n",
       " 'GSM1629301': '99-369-N',\n",
       " 'GSM1629302': '99-387-T',\n",
       " 'GSM1629303': '99-506-T',\n",
       " 'GSM1629304': '99-388-T',\n",
       " 'GSM1629305': '99-523-N',\n",
       " 'GSM1629306': '99-403-N',\n",
       " 'GSM1629307': '99-523-T',\n",
       " 'GSM1629308': '99-403-T',\n",
       " 'GSM1629309': '99-536-N',\n",
       " 'GSM1629310': '99-468-N',\n",
       " 'GSM1629311': '01-083-N',\n",
       " 'GSM1629312': '99-468-T',\n",
       " 'GSM1629313': '01-083-T'}"
      ]
     },
     "execution_count": 132,
     "metadata": {},
     "output_type": "execute_result"
    }
   ],
   "source": [
    "target_dict"
   ]
  },
  {
   "cell_type": "code",
   "execution_count": 133,
   "metadata": {},
   "outputs": [],
   "source": [
    "data_matrix.dropna(axis = 0,inplace=True)"
   ]
  },
  {
   "cell_type": "code",
   "execution_count": 134,
   "metadata": {},
   "outputs": [
    {
     "data": {
      "text/plain": [
       "(408288, 120)"
      ]
     },
     "execution_count": 134,
     "metadata": {},
     "output_type": "execute_result"
    }
   ],
   "source": [
    "data_matrix.shape"
   ]
  },
  {
   "cell_type": "code",
   "execution_count": 135,
   "metadata": {},
   "outputs": [
    {
     "data": {
      "text/plain": [
       "torch.Size([408288])"
      ]
     },
     "execution_count": 135,
     "metadata": {},
     "output_type": "execute_result"
    }
   ],
   "source": [
    "torch.from_numpy(data_matrix.iloc[:,1].values).size()"
   ]
  },
  {
   "cell_type": "code",
   "execution_count": 136,
   "metadata": {},
   "outputs": [],
   "source": [
    "def transform_target(target):\n",
    "    if target.split(\"-\")[-1] == \"N\":\n",
    "        return 0\n",
    "    else:\n",
    "        return 1   "
   ]
  },
  {
   "cell_type": "code",
   "execution_count": 137,
   "metadata": {},
   "outputs": [],
   "source": [
    "target_dict = {target : transform_target(target_dict[target]) for target in target_dict}"
   ]
  },
  {
   "cell_type": "code",
   "execution_count": 138,
   "metadata": {},
   "outputs": [
    {
     "data": {
      "text/plain": [
       "array([0.9357331 , 0.8746111 , 0.593666  , ..., 0.9518182 , 0.9392812 ,\n",
       "       0.04467725])"
      ]
     },
     "execution_count": 138,
     "metadata": {},
     "output_type": "execute_result"
    }
   ],
   "source": [
    "data_matrix.iloc[:,0].values"
   ]
  },
  {
   "cell_type": "code",
   "execution_count": 139,
   "metadata": {},
   "outputs": [],
   "source": [
    "class GSEDataset(Dataset):\n",
    "    def __init__(self, data_matrix, target_dict):\n",
    "        self.data_matrix = data_matrix\n",
    "        self.target_dict = target_dict\n",
    "    \n",
    "    def __len__(self):\n",
    "        return len(self.target_dict)\n",
    "    \n",
    "    def __getitem__(self, idx):\n",
    "        x = torch.from_numpy(self.data_matrix.iloc[:,idx].values).float()\n",
    "        y = torch.tensor(self.target_dict[self.data_matrix.columns[idx]])\n",
    "        return x,y"
   ]
  },
  {
   "cell_type": "code",
   "execution_count": 140,
   "metadata": {},
   "outputs": [],
   "source": [
    "ges_dataset =  GSEDataset(data_matrix, target_dict)"
   ]
  },
  {
   "cell_type": "code",
   "execution_count": 141,
   "metadata": {},
   "outputs": [],
   "source": [
    "train_size = int(0.8 * len(ges_dataset))\n",
    "test_size = len(ges_dataset) - train_size\n",
    "\n",
    "train_dataset, test_dataset = torch.utils.data.random_split(ges_dataset, [train_size, test_size])"
   ]
  },
  {
   "cell_type": "code",
   "execution_count": 142,
   "metadata": {},
   "outputs": [],
   "source": [
    "train_dataloader = DataLoader(dataset = train_dataset,\n",
    "                             batch_size=BATCH_SIZE,\n",
    "                             shuffle=True,\n",
    "                             num_workers=4)\n",
    "\n",
    "test_dataloader = DataLoader(dataset = test_dataset,\n",
    "                             batch_size=BATCH_SIZE,\n",
    "                             shuffle=False,\n",
    "                             num_workers=4)\n",
    "\n",
    "dataset_loader = {\"train\": train_dataloader, \"test\": test_dataloader}"
   ]
  },
  {
   "cell_type": "markdown",
   "metadata": {},
   "source": [
    "## Transfer Model"
   ]
  },
  {
   "cell_type": "code",
   "execution_count": 143,
   "metadata": {
    "scrolled": true
   },
   "outputs": [],
   "source": [
    "resnet = torchvision.models.resnet34(pretrained=True)"
   ]
  },
  {
   "cell_type": "code",
   "execution_count": 144,
   "metadata": {},
   "outputs": [
    {
     "data": {
      "text/plain": [
       "ResNet(\n",
       "  (conv1): Conv2d(3, 64, kernel_size=(7, 7), stride=(2, 2), padding=(3, 3), bias=False)\n",
       "  (bn1): BatchNorm2d(64, eps=1e-05, momentum=0.1, affine=True, track_running_stats=True)\n",
       "  (relu): ReLU(inplace=True)\n",
       "  (maxpool): MaxPool2d(kernel_size=3, stride=2, padding=1, dilation=1, ceil_mode=False)\n",
       "  (layer1): Sequential(\n",
       "    (0): BasicBlock(\n",
       "      (conv1): Conv2d(64, 64, kernel_size=(3, 3), stride=(1, 1), padding=(1, 1), bias=False)\n",
       "      (bn1): BatchNorm2d(64, eps=1e-05, momentum=0.1, affine=True, track_running_stats=True)\n",
       "      (relu): ReLU(inplace=True)\n",
       "      (conv2): Conv2d(64, 64, kernel_size=(3, 3), stride=(1, 1), padding=(1, 1), bias=False)\n",
       "      (bn2): BatchNorm2d(64, eps=1e-05, momentum=0.1, affine=True, track_running_stats=True)\n",
       "    )\n",
       "    (1): BasicBlock(\n",
       "      (conv1): Conv2d(64, 64, kernel_size=(3, 3), stride=(1, 1), padding=(1, 1), bias=False)\n",
       "      (bn1): BatchNorm2d(64, eps=1e-05, momentum=0.1, affine=True, track_running_stats=True)\n",
       "      (relu): ReLU(inplace=True)\n",
       "      (conv2): Conv2d(64, 64, kernel_size=(3, 3), stride=(1, 1), padding=(1, 1), bias=False)\n",
       "      (bn2): BatchNorm2d(64, eps=1e-05, momentum=0.1, affine=True, track_running_stats=True)\n",
       "    )\n",
       "    (2): BasicBlock(\n",
       "      (conv1): Conv2d(64, 64, kernel_size=(3, 3), stride=(1, 1), padding=(1, 1), bias=False)\n",
       "      (bn1): BatchNorm2d(64, eps=1e-05, momentum=0.1, affine=True, track_running_stats=True)\n",
       "      (relu): ReLU(inplace=True)\n",
       "      (conv2): Conv2d(64, 64, kernel_size=(3, 3), stride=(1, 1), padding=(1, 1), bias=False)\n",
       "      (bn2): BatchNorm2d(64, eps=1e-05, momentum=0.1, affine=True, track_running_stats=True)\n",
       "    )\n",
       "  )\n",
       "  (layer2): Sequential(\n",
       "    (0): BasicBlock(\n",
       "      (conv1): Conv2d(64, 128, kernel_size=(3, 3), stride=(2, 2), padding=(1, 1), bias=False)\n",
       "      (bn1): BatchNorm2d(128, eps=1e-05, momentum=0.1, affine=True, track_running_stats=True)\n",
       "      (relu): ReLU(inplace=True)\n",
       "      (conv2): Conv2d(128, 128, kernel_size=(3, 3), stride=(1, 1), padding=(1, 1), bias=False)\n",
       "      (bn2): BatchNorm2d(128, eps=1e-05, momentum=0.1, affine=True, track_running_stats=True)\n",
       "      (downsample): Sequential(\n",
       "        (0): Conv2d(64, 128, kernel_size=(1, 1), stride=(2, 2), bias=False)\n",
       "        (1): BatchNorm2d(128, eps=1e-05, momentum=0.1, affine=True, track_running_stats=True)\n",
       "      )\n",
       "    )\n",
       "    (1): BasicBlock(\n",
       "      (conv1): Conv2d(128, 128, kernel_size=(3, 3), stride=(1, 1), padding=(1, 1), bias=False)\n",
       "      (bn1): BatchNorm2d(128, eps=1e-05, momentum=0.1, affine=True, track_running_stats=True)\n",
       "      (relu): ReLU(inplace=True)\n",
       "      (conv2): Conv2d(128, 128, kernel_size=(3, 3), stride=(1, 1), padding=(1, 1), bias=False)\n",
       "      (bn2): BatchNorm2d(128, eps=1e-05, momentum=0.1, affine=True, track_running_stats=True)\n",
       "    )\n",
       "    (2): BasicBlock(\n",
       "      (conv1): Conv2d(128, 128, kernel_size=(3, 3), stride=(1, 1), padding=(1, 1), bias=False)\n",
       "      (bn1): BatchNorm2d(128, eps=1e-05, momentum=0.1, affine=True, track_running_stats=True)\n",
       "      (relu): ReLU(inplace=True)\n",
       "      (conv2): Conv2d(128, 128, kernel_size=(3, 3), stride=(1, 1), padding=(1, 1), bias=False)\n",
       "      (bn2): BatchNorm2d(128, eps=1e-05, momentum=0.1, affine=True, track_running_stats=True)\n",
       "    )\n",
       "    (3): BasicBlock(\n",
       "      (conv1): Conv2d(128, 128, kernel_size=(3, 3), stride=(1, 1), padding=(1, 1), bias=False)\n",
       "      (bn1): BatchNorm2d(128, eps=1e-05, momentum=0.1, affine=True, track_running_stats=True)\n",
       "      (relu): ReLU(inplace=True)\n",
       "      (conv2): Conv2d(128, 128, kernel_size=(3, 3), stride=(1, 1), padding=(1, 1), bias=False)\n",
       "      (bn2): BatchNorm2d(128, eps=1e-05, momentum=0.1, affine=True, track_running_stats=True)\n",
       "    )\n",
       "  )\n",
       "  (layer3): Sequential(\n",
       "    (0): BasicBlock(\n",
       "      (conv1): Conv2d(128, 256, kernel_size=(3, 3), stride=(2, 2), padding=(1, 1), bias=False)\n",
       "      (bn1): BatchNorm2d(256, eps=1e-05, momentum=0.1, affine=True, track_running_stats=True)\n",
       "      (relu): ReLU(inplace=True)\n",
       "      (conv2): Conv2d(256, 256, kernel_size=(3, 3), stride=(1, 1), padding=(1, 1), bias=False)\n",
       "      (bn2): BatchNorm2d(256, eps=1e-05, momentum=0.1, affine=True, track_running_stats=True)\n",
       "      (downsample): Sequential(\n",
       "        (0): Conv2d(128, 256, kernel_size=(1, 1), stride=(2, 2), bias=False)\n",
       "        (1): BatchNorm2d(256, eps=1e-05, momentum=0.1, affine=True, track_running_stats=True)\n",
       "      )\n",
       "    )\n",
       "    (1): BasicBlock(\n",
       "      (conv1): Conv2d(256, 256, kernel_size=(3, 3), stride=(1, 1), padding=(1, 1), bias=False)\n",
       "      (bn1): BatchNorm2d(256, eps=1e-05, momentum=0.1, affine=True, track_running_stats=True)\n",
       "      (relu): ReLU(inplace=True)\n",
       "      (conv2): Conv2d(256, 256, kernel_size=(3, 3), stride=(1, 1), padding=(1, 1), bias=False)\n",
       "      (bn2): BatchNorm2d(256, eps=1e-05, momentum=0.1, affine=True, track_running_stats=True)\n",
       "    )\n",
       "    (2): BasicBlock(\n",
       "      (conv1): Conv2d(256, 256, kernel_size=(3, 3), stride=(1, 1), padding=(1, 1), bias=False)\n",
       "      (bn1): BatchNorm2d(256, eps=1e-05, momentum=0.1, affine=True, track_running_stats=True)\n",
       "      (relu): ReLU(inplace=True)\n",
       "      (conv2): Conv2d(256, 256, kernel_size=(3, 3), stride=(1, 1), padding=(1, 1), bias=False)\n",
       "      (bn2): BatchNorm2d(256, eps=1e-05, momentum=0.1, affine=True, track_running_stats=True)\n",
       "    )\n",
       "    (3): BasicBlock(\n",
       "      (conv1): Conv2d(256, 256, kernel_size=(3, 3), stride=(1, 1), padding=(1, 1), bias=False)\n",
       "      (bn1): BatchNorm2d(256, eps=1e-05, momentum=0.1, affine=True, track_running_stats=True)\n",
       "      (relu): ReLU(inplace=True)\n",
       "      (conv2): Conv2d(256, 256, kernel_size=(3, 3), stride=(1, 1), padding=(1, 1), bias=False)\n",
       "      (bn2): BatchNorm2d(256, eps=1e-05, momentum=0.1, affine=True, track_running_stats=True)\n",
       "    )\n",
       "    (4): BasicBlock(\n",
       "      (conv1): Conv2d(256, 256, kernel_size=(3, 3), stride=(1, 1), padding=(1, 1), bias=False)\n",
       "      (bn1): BatchNorm2d(256, eps=1e-05, momentum=0.1, affine=True, track_running_stats=True)\n",
       "      (relu): ReLU(inplace=True)\n",
       "      (conv2): Conv2d(256, 256, kernel_size=(3, 3), stride=(1, 1), padding=(1, 1), bias=False)\n",
       "      (bn2): BatchNorm2d(256, eps=1e-05, momentum=0.1, affine=True, track_running_stats=True)\n",
       "    )\n",
       "    (5): BasicBlock(\n",
       "      (conv1): Conv2d(256, 256, kernel_size=(3, 3), stride=(1, 1), padding=(1, 1), bias=False)\n",
       "      (bn1): BatchNorm2d(256, eps=1e-05, momentum=0.1, affine=True, track_running_stats=True)\n",
       "      (relu): ReLU(inplace=True)\n",
       "      (conv2): Conv2d(256, 256, kernel_size=(3, 3), stride=(1, 1), padding=(1, 1), bias=False)\n",
       "      (bn2): BatchNorm2d(256, eps=1e-05, momentum=0.1, affine=True, track_running_stats=True)\n",
       "    )\n",
       "  )\n",
       "  (layer4): Sequential(\n",
       "    (0): BasicBlock(\n",
       "      (conv1): Conv2d(256, 512, kernel_size=(3, 3), stride=(2, 2), padding=(1, 1), bias=False)\n",
       "      (bn1): BatchNorm2d(512, eps=1e-05, momentum=0.1, affine=True, track_running_stats=True)\n",
       "      (relu): ReLU(inplace=True)\n",
       "      (conv2): Conv2d(512, 512, kernel_size=(3, 3), stride=(1, 1), padding=(1, 1), bias=False)\n",
       "      (bn2): BatchNorm2d(512, eps=1e-05, momentum=0.1, affine=True, track_running_stats=True)\n",
       "      (downsample): Sequential(\n",
       "        (0): Conv2d(256, 512, kernel_size=(1, 1), stride=(2, 2), bias=False)\n",
       "        (1): BatchNorm2d(512, eps=1e-05, momentum=0.1, affine=True, track_running_stats=True)\n",
       "      )\n",
       "    )\n",
       "    (1): BasicBlock(\n",
       "      (conv1): Conv2d(512, 512, kernel_size=(3, 3), stride=(1, 1), padding=(1, 1), bias=False)\n",
       "      (bn1): BatchNorm2d(512, eps=1e-05, momentum=0.1, affine=True, track_running_stats=True)\n",
       "      (relu): ReLU(inplace=True)\n",
       "      (conv2): Conv2d(512, 512, kernel_size=(3, 3), stride=(1, 1), padding=(1, 1), bias=False)\n",
       "      (bn2): BatchNorm2d(512, eps=1e-05, momentum=0.1, affine=True, track_running_stats=True)\n",
       "    )\n",
       "    (2): BasicBlock(\n",
       "      (conv1): Conv2d(512, 512, kernel_size=(3, 3), stride=(1, 1), padding=(1, 1), bias=False)\n",
       "      (bn1): BatchNorm2d(512, eps=1e-05, momentum=0.1, affine=True, track_running_stats=True)\n",
       "      (relu): ReLU(inplace=True)\n",
       "      (conv2): Conv2d(512, 512, kernel_size=(3, 3), stride=(1, 1), padding=(1, 1), bias=False)\n",
       "      (bn2): BatchNorm2d(512, eps=1e-05, momentum=0.1, affine=True, track_running_stats=True)\n",
       "    )\n",
       "  )\n",
       "  (avgpool): AdaptiveAvgPool2d(output_size=(1, 1))\n",
       "  (fc): Linear(in_features=512, out_features=1000, bias=True)\n",
       ")"
      ]
     },
     "execution_count": 144,
     "metadata": {},
     "output_type": "execute_result"
    }
   ],
   "source": [
    "resnet"
   ]
  },
  {
   "cell_type": "code",
   "execution_count": 145,
   "metadata": {},
   "outputs": [
    {
     "name": "stdout",
     "output_type": "stream",
     "text": [
      "conv1\n",
      "bn1\n",
      "relu\n",
      "maxpool\n",
      "layer1\n",
      "layer2\n",
      "layer3\n",
      "layer4\n",
      "avgpool\n",
      "fc\n"
     ]
    }
   ],
   "source": [
    "for name, m in resnet.named_children():\n",
    "    print(name)"
   ]
  },
  {
   "cell_type": "code",
   "execution_count": 146,
   "metadata": {},
   "outputs": [],
   "source": [
    "x,y = next(iter(dataset_loader[\"train\"]))"
   ]
  },
  {
   "cell_type": "code",
   "execution_count": 147,
   "metadata": {},
   "outputs": [
    {
     "data": {
      "text/plain": [
       "(torch.Size([5, 408288]), torch.Size([5]))"
      ]
     },
     "execution_count": 147,
     "metadata": {},
     "output_type": "execute_result"
    }
   ],
   "source": [
    "x.size(), y.size()"
   ]
  },
  {
   "cell_type": "code",
   "execution_count": 148,
   "metadata": {},
   "outputs": [
    {
     "data": {
      "text/plain": [
       "[2, 2, 2, 2, 2, 3, 4253]"
      ]
     },
     "execution_count": 148,
     "metadata": {},
     "output_type": "execute_result"
    }
   ],
   "source": [
    "def div_prime(num):\n",
    "    res = []\n",
    "    while num != 1:\n",
    "        for i in range(2, int(num+1)):\n",
    "            if num % i == 0:\n",
    "                res.append(i)\n",
    "                num = num // i\n",
    "                break\n",
    " \n",
    "    return res\n",
    "div_prime(408288)"
   ]
  },
  {
   "cell_type": "markdown",
   "metadata": {},
   "source": [
    "# Model"
   ]
  },
  {
   "cell_type": "code",
   "execution_count": 149,
   "metadata": {},
   "outputs": [],
   "source": [
    "class GESMODEL(torch.nn.Module):\n",
    "    def __init__(self, num_class = NUM_CLASSES):\n",
    "        super(GESMODEL, self).__init__()\n",
    "        \n",
    "        self.adaptive_pool = torch.nn.AdaptiveAvgPool2d((224,224))\n",
    "        self.resenet = torchvision.models.resnet34(pretrained=True)\n",
    "        \n",
    "#         for param in self.resenet.parameters():\n",
    "#             param.requires_grad = False\n",
    "        \n",
    "        \n",
    "        self.resenet.fc = nn.Linear(self.resenet.fc.in_features,NUM_CLASSES)\n",
    "        torch.nn.init.normal_(self.resenet.fc.weight, 0, 0.01)\n",
    "        torch.nn.init.constant_(self.resenet.fc.bias, 0)\n",
    "        \n",
    "    def forward(self, x):\n",
    "        x = x.view(-1, 3,32,4253)\n",
    "        x = self.adaptive_pool(x)\n",
    "        logits = self.resenet(x)\n",
    "        probas = F.softmax(logits, dim = 1)\n",
    "        return logits,probas"
   ]
  },
  {
   "cell_type": "code",
   "execution_count": 150,
   "metadata": {},
   "outputs": [],
   "source": [
    "model = GESMODEL().to(DEVICE)\n",
    "optimizer = torch.optim.Adam(model.parameters(), lr = LEARNING_RATE)"
   ]
  },
  {
   "cell_type": "code",
   "execution_count": 151,
   "metadata": {},
   "outputs": [
    {
     "name": "stdout",
     "output_type": "stream",
     "text": [
      "----------------------------------------------------------------\n",
      "        Layer (type)               Output Shape         Param #\n",
      "================================================================\n",
      " AdaptiveAvgPool2d-1          [-1, 3, 224, 224]               0\n",
      "            Conv2d-2         [-1, 64, 112, 112]           9,408\n",
      "       BatchNorm2d-3         [-1, 64, 112, 112]             128\n",
      "              ReLU-4         [-1, 64, 112, 112]               0\n",
      "         MaxPool2d-5           [-1, 64, 56, 56]               0\n",
      "            Conv2d-6           [-1, 64, 56, 56]          36,864\n",
      "       BatchNorm2d-7           [-1, 64, 56, 56]             128\n",
      "              ReLU-8           [-1, 64, 56, 56]               0\n",
      "            Conv2d-9           [-1, 64, 56, 56]          36,864\n",
      "      BatchNorm2d-10           [-1, 64, 56, 56]             128\n",
      "             ReLU-11           [-1, 64, 56, 56]               0\n",
      "       BasicBlock-12           [-1, 64, 56, 56]               0\n",
      "           Conv2d-13           [-1, 64, 56, 56]          36,864\n",
      "      BatchNorm2d-14           [-1, 64, 56, 56]             128\n",
      "             ReLU-15           [-1, 64, 56, 56]               0\n",
      "           Conv2d-16           [-1, 64, 56, 56]          36,864\n",
      "      BatchNorm2d-17           [-1, 64, 56, 56]             128\n",
      "             ReLU-18           [-1, 64, 56, 56]               0\n",
      "       BasicBlock-19           [-1, 64, 56, 56]               0\n",
      "           Conv2d-20           [-1, 64, 56, 56]          36,864\n",
      "      BatchNorm2d-21           [-1, 64, 56, 56]             128\n",
      "             ReLU-22           [-1, 64, 56, 56]               0\n",
      "           Conv2d-23           [-1, 64, 56, 56]          36,864\n",
      "      BatchNorm2d-24           [-1, 64, 56, 56]             128\n",
      "             ReLU-25           [-1, 64, 56, 56]               0\n",
      "       BasicBlock-26           [-1, 64, 56, 56]               0\n",
      "           Conv2d-27          [-1, 128, 28, 28]          73,728\n",
      "      BatchNorm2d-28          [-1, 128, 28, 28]             256\n",
      "             ReLU-29          [-1, 128, 28, 28]               0\n",
      "           Conv2d-30          [-1, 128, 28, 28]         147,456\n",
      "      BatchNorm2d-31          [-1, 128, 28, 28]             256\n",
      "           Conv2d-32          [-1, 128, 28, 28]           8,192\n",
      "      BatchNorm2d-33          [-1, 128, 28, 28]             256\n",
      "             ReLU-34          [-1, 128, 28, 28]               0\n",
      "       BasicBlock-35          [-1, 128, 28, 28]               0\n",
      "           Conv2d-36          [-1, 128, 28, 28]         147,456\n",
      "      BatchNorm2d-37          [-1, 128, 28, 28]             256\n",
      "             ReLU-38          [-1, 128, 28, 28]               0\n",
      "           Conv2d-39          [-1, 128, 28, 28]         147,456\n",
      "      BatchNorm2d-40          [-1, 128, 28, 28]             256\n",
      "             ReLU-41          [-1, 128, 28, 28]               0\n",
      "       BasicBlock-42          [-1, 128, 28, 28]               0\n",
      "           Conv2d-43          [-1, 128, 28, 28]         147,456\n",
      "      BatchNorm2d-44          [-1, 128, 28, 28]             256\n",
      "             ReLU-45          [-1, 128, 28, 28]               0\n",
      "           Conv2d-46          [-1, 128, 28, 28]         147,456\n",
      "      BatchNorm2d-47          [-1, 128, 28, 28]             256\n",
      "             ReLU-48          [-1, 128, 28, 28]               0\n",
      "       BasicBlock-49          [-1, 128, 28, 28]               0\n",
      "           Conv2d-50          [-1, 128, 28, 28]         147,456\n",
      "      BatchNorm2d-51          [-1, 128, 28, 28]             256\n",
      "             ReLU-52          [-1, 128, 28, 28]               0\n",
      "           Conv2d-53          [-1, 128, 28, 28]         147,456\n",
      "      BatchNorm2d-54          [-1, 128, 28, 28]             256\n",
      "             ReLU-55          [-1, 128, 28, 28]               0\n",
      "       BasicBlock-56          [-1, 128, 28, 28]               0\n",
      "           Conv2d-57          [-1, 256, 14, 14]         294,912\n",
      "      BatchNorm2d-58          [-1, 256, 14, 14]             512\n",
      "             ReLU-59          [-1, 256, 14, 14]               0\n",
      "           Conv2d-60          [-1, 256, 14, 14]         589,824\n",
      "      BatchNorm2d-61          [-1, 256, 14, 14]             512\n",
      "           Conv2d-62          [-1, 256, 14, 14]          32,768\n",
      "      BatchNorm2d-63          [-1, 256, 14, 14]             512\n",
      "             ReLU-64          [-1, 256, 14, 14]               0\n",
      "       BasicBlock-65          [-1, 256, 14, 14]               0\n",
      "           Conv2d-66          [-1, 256, 14, 14]         589,824\n",
      "      BatchNorm2d-67          [-1, 256, 14, 14]             512\n",
      "             ReLU-68          [-1, 256, 14, 14]               0\n",
      "           Conv2d-69          [-1, 256, 14, 14]         589,824\n",
      "      BatchNorm2d-70          [-1, 256, 14, 14]             512\n",
      "             ReLU-71          [-1, 256, 14, 14]               0\n",
      "       BasicBlock-72          [-1, 256, 14, 14]               0\n",
      "           Conv2d-73          [-1, 256, 14, 14]         589,824\n",
      "      BatchNorm2d-74          [-1, 256, 14, 14]             512\n",
      "             ReLU-75          [-1, 256, 14, 14]               0\n",
      "           Conv2d-76          [-1, 256, 14, 14]         589,824\n",
      "      BatchNorm2d-77          [-1, 256, 14, 14]             512\n",
      "             ReLU-78          [-1, 256, 14, 14]               0\n",
      "       BasicBlock-79          [-1, 256, 14, 14]               0\n",
      "           Conv2d-80          [-1, 256, 14, 14]         589,824\n",
      "      BatchNorm2d-81          [-1, 256, 14, 14]             512\n",
      "             ReLU-82          [-1, 256, 14, 14]               0\n",
      "           Conv2d-83          [-1, 256, 14, 14]         589,824\n",
      "      BatchNorm2d-84          [-1, 256, 14, 14]             512\n",
      "             ReLU-85          [-1, 256, 14, 14]               0\n",
      "       BasicBlock-86          [-1, 256, 14, 14]               0\n",
      "           Conv2d-87          [-1, 256, 14, 14]         589,824\n",
      "      BatchNorm2d-88          [-1, 256, 14, 14]             512\n",
      "             ReLU-89          [-1, 256, 14, 14]               0\n",
      "           Conv2d-90          [-1, 256, 14, 14]         589,824\n",
      "      BatchNorm2d-91          [-1, 256, 14, 14]             512\n",
      "             ReLU-92          [-1, 256, 14, 14]               0\n",
      "       BasicBlock-93          [-1, 256, 14, 14]               0\n",
      "           Conv2d-94          [-1, 256, 14, 14]         589,824\n",
      "      BatchNorm2d-95          [-1, 256, 14, 14]             512\n",
      "             ReLU-96          [-1, 256, 14, 14]               0\n",
      "           Conv2d-97          [-1, 256, 14, 14]         589,824\n",
      "      BatchNorm2d-98          [-1, 256, 14, 14]             512\n",
      "             ReLU-99          [-1, 256, 14, 14]               0\n",
      "      BasicBlock-100          [-1, 256, 14, 14]               0\n",
      "          Conv2d-101            [-1, 512, 7, 7]       1,179,648\n",
      "     BatchNorm2d-102            [-1, 512, 7, 7]           1,024\n",
      "            ReLU-103            [-1, 512, 7, 7]               0\n",
      "          Conv2d-104            [-1, 512, 7, 7]       2,359,296\n",
      "     BatchNorm2d-105            [-1, 512, 7, 7]           1,024\n",
      "          Conv2d-106            [-1, 512, 7, 7]         131,072\n",
      "     BatchNorm2d-107            [-1, 512, 7, 7]           1,024\n",
      "            ReLU-108            [-1, 512, 7, 7]               0\n",
      "      BasicBlock-109            [-1, 512, 7, 7]               0\n",
      "          Conv2d-110            [-1, 512, 7, 7]       2,359,296\n",
      "     BatchNorm2d-111            [-1, 512, 7, 7]           1,024\n",
      "            ReLU-112            [-1, 512, 7, 7]               0\n",
      "          Conv2d-113            [-1, 512, 7, 7]       2,359,296\n",
      "     BatchNorm2d-114            [-1, 512, 7, 7]           1,024\n",
      "            ReLU-115            [-1, 512, 7, 7]               0\n",
      "      BasicBlock-116            [-1, 512, 7, 7]               0\n",
      "          Conv2d-117            [-1, 512, 7, 7]       2,359,296\n",
      "     BatchNorm2d-118            [-1, 512, 7, 7]           1,024\n",
      "            ReLU-119            [-1, 512, 7, 7]               0\n",
      "          Conv2d-120            [-1, 512, 7, 7]       2,359,296\n",
      "     BatchNorm2d-121            [-1, 512, 7, 7]           1,024\n",
      "            ReLU-122            [-1, 512, 7, 7]               0\n",
      "      BasicBlock-123            [-1, 512, 7, 7]               0\n",
      "AdaptiveAvgPool2d-124            [-1, 512, 1, 1]               0\n",
      "          Linear-125                    [-1, 2]           1,026\n",
      "          ResNet-126                    [-1, 2]               0\n",
      "================================================================\n",
      "Total params: 21,285,698\n",
      "Trainable params: 21,285,698\n",
      "Non-trainable params: 0\n",
      "----------------------------------------------------------------\n",
      "Input size (MB): 1.56\n",
      "Forward/backward pass size (MB): 97.43\n",
      "Params size (MB): 81.20\n",
      "Estimated Total Size (MB): 180.19\n",
      "----------------------------------------------------------------\n"
     ]
    }
   ],
   "source": [
    "summary(model, (408288,))"
   ]
  },
  {
   "cell_type": "markdown",
   "metadata": {},
   "source": [
    "## Training"
   ]
  },
  {
   "cell_type": "code",
   "execution_count": 152,
   "metadata": {},
   "outputs": [],
   "source": [
    "def compute_accuracy(model, data_loader, device):\n",
    "    model.eval()\n",
    "    correct_pred, num_examples = 0, 0\n",
    "    for i, (features, targets) in enumerate(data_loader):\n",
    "            \n",
    "        features = features.to(device)\n",
    "        targets = targets.to(device)\n",
    "\n",
    "        logits, probas = model(features)\n",
    "        _, predicted_labels = torch.max(probas, 1)\n",
    "        num_examples += targets.size(0)\n",
    "        correct_pred += (predicted_labels == targets).sum()\n",
    "    return correct_pred.float()/num_examples * 100"
   ]
  },
  {
   "cell_type": "code",
   "execution_count": 153,
   "metadata": {},
   "outputs": [],
   "source": [
    "def train_model(model, data_loader, optimizer, num_epochs,batch_size, device,metric_func, random_seed = 7):\n",
    "    # Manual seed for deterministic data loader\n",
    "    torch.manual_seed(random_seed)\n",
    "    \n",
    "    loss_list = []\n",
    "    train_acc_list, valid_acc_list = [], []\n",
    "    \n",
    "    for epoch in range(num_epochs):\n",
    "        start = time.time()\n",
    "        # set training mode\n",
    "        model.train() \n",
    "        for batch_idx, (features, targets) in enumerate(data_loader[\"train\"]):\n",
    "            features = features.to(device)\n",
    "            targets = targets.to(device)\n",
    "\n",
    "\n",
    "            ## forward pass\n",
    "            logits, probas = model(features)\n",
    "            loss = F.cross_entropy(logits,targets)\n",
    "\n",
    "            # backward pass\n",
    "            # clear the gradients of all tensors being optimized\n",
    "            optimizer.zero_grad()\n",
    "            loss.backward()\n",
    "            optimizer.step()\n",
    "\n",
    "            ### Login\n",
    "            loss_list.append(loss.item())\n",
    "\n",
    "            print ('Epoch: {0:03d}/{1:03d} | Batch {2:03d}/{3:03d} | Loss: {4:.2f}'.format(\n",
    "                epoch+1, num_epochs, batch_idx, \n",
    "                     len(train_dataset)//batch_size, loss))\n",
    "        \n",
    "        end = time.time()\n",
    "        with torch.set_grad_enabled(False):\n",
    "            train_acc = metric_func(model, data_loader[\"train\"], device)\n",
    "            valid_acc = metric_func(model, data_loader[\"test\"], device)\n",
    "            \n",
    "            print('Epoch: {0:03d}/{1:03d} train acc: {2:.3f} % | val acc: {3:.3f} % | time: {4:.3f} s'.format(\n",
    "                  epoch+1, num_epochs, train_acc, valid_acc, end-start))\n",
    "            \n",
    "\n",
    "            \n",
    "            train_acc_list.append(train_acc)\n",
    "            valid_acc_list.append(valid_acc)\n",
    "            \n",
    "    return model, loss_list, train_acc_list, valid_acc_list"
   ]
  },
  {
   "cell_type": "code",
   "execution_count": 154,
   "metadata": {},
   "outputs": [
    {
     "name": "stdout",
     "output_type": "stream",
     "text": [
      "Epoch: 001/010 | Batch 000/019 | Loss: 0.71\n",
      "Epoch: 001/010 | Batch 001/019 | Loss: 0.67\n",
      "Epoch: 001/010 | Batch 002/019 | Loss: 0.55\n",
      "Epoch: 001/010 | Batch 003/019 | Loss: 0.34\n",
      "Epoch: 001/010 | Batch 004/019 | Loss: 0.64\n",
      "Epoch: 001/010 | Batch 005/019 | Loss: 0.28\n",
      "Epoch: 001/010 | Batch 006/019 | Loss: 0.26\n",
      "Epoch: 001/010 | Batch 007/019 | Loss: 0.68\n",
      "Epoch: 001/010 | Batch 008/019 | Loss: 0.50\n",
      "Epoch: 001/010 | Batch 009/019 | Loss: 0.21\n",
      "Epoch: 001/010 | Batch 010/019 | Loss: 0.11\n",
      "Epoch: 001/010 | Batch 011/019 | Loss: 0.16\n",
      "Epoch: 001/010 | Batch 012/019 | Loss: 0.42\n",
      "Epoch: 001/010 | Batch 013/019 | Loss: 0.56\n",
      "Epoch: 001/010 | Batch 014/019 | Loss: 0.44\n",
      "Epoch: 001/010 | Batch 015/019 | Loss: 0.10\n",
      "Epoch: 001/010 | Batch 016/019 | Loss: 0.16\n",
      "Epoch: 001/010 | Batch 017/019 | Loss: 0.21\n",
      "Epoch: 001/010 | Batch 018/019 | Loss: 0.07\n",
      "Epoch: 001/010 | Batch 019/019 | Loss: 0.30\n",
      "Epoch: 001/010 train acc: 65.625 % | val acc: 70.833 % | time: 2.762 s\n",
      "Epoch: 002/010 | Batch 000/019 | Loss: 0.37\n",
      "Epoch: 002/010 | Batch 001/019 | Loss: 0.40\n",
      "Epoch: 002/010 | Batch 002/019 | Loss: 0.12\n",
      "Epoch: 002/010 | Batch 003/019 | Loss: 0.07\n",
      "Epoch: 002/010 | Batch 004/019 | Loss: 0.07\n",
      "Epoch: 002/010 | Batch 005/019 | Loss: 0.06\n",
      "Epoch: 002/010 | Batch 006/019 | Loss: 0.03\n",
      "Epoch: 002/010 | Batch 007/019 | Loss: 0.06\n",
      "Epoch: 002/010 | Batch 008/019 | Loss: 0.03\n",
      "Epoch: 002/010 | Batch 009/019 | Loss: 0.03\n",
      "Epoch: 002/010 | Batch 010/019 | Loss: 0.05\n",
      "Epoch: 002/010 | Batch 011/019 | Loss: 0.04\n",
      "Epoch: 002/010 | Batch 012/019 | Loss: 0.39\n",
      "Epoch: 002/010 | Batch 013/019 | Loss: 0.11\n",
      "Epoch: 002/010 | Batch 014/019 | Loss: 0.03\n",
      "Epoch: 002/010 | Batch 015/019 | Loss: 0.11\n",
      "Epoch: 002/010 | Batch 016/019 | Loss: 0.02\n",
      "Epoch: 002/010 | Batch 017/019 | Loss: 0.03\n",
      "Epoch: 002/010 | Batch 018/019 | Loss: 0.15\n",
      "Epoch: 002/010 | Batch 019/019 | Loss: 0.16\n",
      "Epoch: 002/010 train acc: 65.625 % | val acc: 70.833 % | time: 2.663 s\n",
      "Epoch: 003/010 | Batch 000/019 | Loss: 0.05\n",
      "Epoch: 003/010 | Batch 001/019 | Loss: 0.54\n",
      "Epoch: 003/010 | Batch 002/019 | Loss: 0.53\n",
      "Epoch: 003/010 | Batch 003/019 | Loss: 0.01\n",
      "Epoch: 003/010 | Batch 004/019 | Loss: 0.09\n",
      "Epoch: 003/010 | Batch 005/019 | Loss: 0.08\n",
      "Epoch: 003/010 | Batch 006/019 | Loss: 0.10\n",
      "Epoch: 003/010 | Batch 007/019 | Loss: 0.15\n",
      "Epoch: 003/010 | Batch 008/019 | Loss: 0.08\n",
      "Epoch: 003/010 | Batch 009/019 | Loss: 0.06\n",
      "Epoch: 003/010 | Batch 010/019 | Loss: 0.02\n",
      "Epoch: 003/010 | Batch 011/019 | Loss: 0.03\n",
      "Epoch: 003/010 | Batch 012/019 | Loss: 0.36\n",
      "Epoch: 003/010 | Batch 013/019 | Loss: 0.06\n",
      "Epoch: 003/010 | Batch 014/019 | Loss: 0.12\n",
      "Epoch: 003/010 | Batch 015/019 | Loss: 0.02\n",
      "Epoch: 003/010 | Batch 016/019 | Loss: 0.07\n",
      "Epoch: 003/010 | Batch 017/019 | Loss: 0.03\n",
      "Epoch: 003/010 | Batch 018/019 | Loss: 0.02\n",
      "Epoch: 003/010 | Batch 019/019 | Loss: 0.10\n",
      "Epoch: 003/010 train acc: 100.000 % | val acc: 95.833 % | time: 2.649 s\n",
      "Epoch: 004/010 | Batch 000/019 | Loss: 0.31\n",
      "Epoch: 004/010 | Batch 001/019 | Loss: 0.03\n",
      "Epoch: 004/010 | Batch 002/019 | Loss: 0.02\n",
      "Epoch: 004/010 | Batch 003/019 | Loss: 0.01\n",
      "Epoch: 004/010 | Batch 004/019 | Loss: 0.01\n",
      "Epoch: 004/010 | Batch 005/019 | Loss: 0.02\n",
      "Epoch: 004/010 | Batch 006/019 | Loss: 0.03\n",
      "Epoch: 004/010 | Batch 007/019 | Loss: 0.13\n",
      "Epoch: 004/010 | Batch 008/019 | Loss: 0.02\n",
      "Epoch: 004/010 | Batch 009/019 | Loss: 0.02\n",
      "Epoch: 004/010 | Batch 010/019 | Loss: 0.05\n",
      "Epoch: 004/010 | Batch 011/019 | Loss: 0.01\n",
      "Epoch: 004/010 | Batch 012/019 | Loss: 0.05\n",
      "Epoch: 004/010 | Batch 013/019 | Loss: 0.28\n",
      "Epoch: 004/010 | Batch 014/019 | Loss: 0.84\n",
      "Epoch: 004/010 | Batch 015/019 | Loss: 0.29\n",
      "Epoch: 004/010 | Batch 016/019 | Loss: 0.03\n",
      "Epoch: 004/010 | Batch 017/019 | Loss: 2.55\n",
      "Epoch: 004/010 | Batch 018/019 | Loss: 0.14\n",
      "Epoch: 004/010 | Batch 019/019 | Loss: 2.02\n",
      "Epoch: 004/010 train acc: 98.958 % | val acc: 95.833 % | time: 2.663 s\n",
      "Epoch: 005/010 | Batch 000/019 | Loss: 0.08\n",
      "Epoch: 005/010 | Batch 001/019 | Loss: 0.07\n",
      "Epoch: 005/010 | Batch 002/019 | Loss: 0.72\n",
      "Epoch: 005/010 | Batch 003/019 | Loss: 0.12\n",
      "Epoch: 005/010 | Batch 004/019 | Loss: 0.06\n",
      "Epoch: 005/010 | Batch 005/019 | Loss: 0.04\n",
      "Epoch: 005/010 | Batch 006/019 | Loss: 0.08\n",
      "Epoch: 005/010 | Batch 007/019 | Loss: 0.06\n",
      "Epoch: 005/010 | Batch 008/019 | Loss: 0.06\n",
      "Epoch: 005/010 | Batch 009/019 | Loss: 0.06\n",
      "Epoch: 005/010 | Batch 010/019 | Loss: 0.11\n",
      "Epoch: 005/010 | Batch 011/019 | Loss: 0.07\n",
      "Epoch: 005/010 | Batch 012/019 | Loss: 0.10\n",
      "Epoch: 005/010 | Batch 013/019 | Loss: 0.04\n",
      "Epoch: 005/010 | Batch 014/019 | Loss: 0.04\n",
      "Epoch: 005/010 | Batch 015/019 | Loss: 0.42\n",
      "Epoch: 005/010 | Batch 016/019 | Loss: 0.04\n",
      "Epoch: 005/010 | Batch 017/019 | Loss: 0.25\n",
      "Epoch: 005/010 | Batch 018/019 | Loss: 0.02\n",
      "Epoch: 005/010 | Batch 019/019 | Loss: 0.16\n",
      "Epoch: 005/010 train acc: 96.875 % | val acc: 95.833 % | time: 2.647 s\n",
      "Epoch: 006/010 | Batch 000/019 | Loss: 0.10\n",
      "Epoch: 006/010 | Batch 001/019 | Loss: 0.04\n",
      "Epoch: 006/010 | Batch 002/019 | Loss: 0.04\n",
      "Epoch: 006/010 | Batch 003/019 | Loss: 0.18\n",
      "Epoch: 006/010 | Batch 004/019 | Loss: 0.15\n",
      "Epoch: 006/010 | Batch 005/019 | Loss: 0.24\n",
      "Epoch: 006/010 | Batch 006/019 | Loss: 0.10\n",
      "Epoch: 006/010 | Batch 007/019 | Loss: 0.06\n",
      "Epoch: 006/010 | Batch 008/019 | Loss: 0.01\n",
      "Epoch: 006/010 | Batch 009/019 | Loss: 0.05\n",
      "Epoch: 006/010 | Batch 010/019 | Loss: 0.01\n",
      "Epoch: 006/010 | Batch 011/019 | Loss: 0.02\n",
      "Epoch: 006/010 | Batch 012/019 | Loss: 0.01\n",
      "Epoch: 006/010 | Batch 013/019 | Loss: 0.04\n",
      "Epoch: 006/010 | Batch 014/019 | Loss: 0.01\n",
      "Epoch: 006/010 | Batch 015/019 | Loss: 0.10\n",
      "Epoch: 006/010 | Batch 016/019 | Loss: 0.03\n",
      "Epoch: 006/010 | Batch 017/019 | Loss: 0.26\n",
      "Epoch: 006/010 | Batch 018/019 | Loss: 0.02\n",
      "Epoch: 006/010 | Batch 019/019 | Loss: 1.42\n",
      "Epoch: 006/010 train acc: 100.000 % | val acc: 95.833 % | time: 2.675 s\n",
      "Epoch: 007/010 | Batch 000/019 | Loss: 0.01\n",
      "Epoch: 007/010 | Batch 001/019 | Loss: 0.02\n",
      "Epoch: 007/010 | Batch 002/019 | Loss: 0.19\n",
      "Epoch: 007/010 | Batch 003/019 | Loss: 0.23\n",
      "Epoch: 007/010 | Batch 004/019 | Loss: 0.02\n",
      "Epoch: 007/010 | Batch 005/019 | Loss: 0.07\n",
      "Epoch: 007/010 | Batch 006/019 | Loss: 0.04\n",
      "Epoch: 007/010 | Batch 007/019 | Loss: 0.07\n",
      "Epoch: 007/010 | Batch 008/019 | Loss: 0.05\n",
      "Epoch: 007/010 | Batch 009/019 | Loss: 0.03\n",
      "Epoch: 007/010 | Batch 010/019 | Loss: 0.05\n",
      "Epoch: 007/010 | Batch 011/019 | Loss: 0.02\n",
      "Epoch: 007/010 | Batch 012/019 | Loss: 0.02\n",
      "Epoch: 007/010 | Batch 013/019 | Loss: 0.33\n",
      "Epoch: 007/010 | Batch 014/019 | Loss: 0.04\n",
      "Epoch: 007/010 | Batch 015/019 | Loss: 0.03\n",
      "Epoch: 007/010 | Batch 016/019 | Loss: 0.02\n",
      "Epoch: 007/010 | Batch 017/019 | Loss: 0.01\n",
      "Epoch: 007/010 | Batch 018/019 | Loss: 0.04\n",
      "Epoch: 007/010 | Batch 019/019 | Loss: 1.28\n",
      "Epoch: 007/010 train acc: 100.000 % | val acc: 95.833 % | time: 2.677 s\n",
      "Epoch: 008/010 | Batch 000/019 | Loss: 0.02\n",
      "Epoch: 008/010 | Batch 001/019 | Loss: 0.01\n",
      "Epoch: 008/010 | Batch 002/019 | Loss: 0.02\n",
      "Epoch: 008/010 | Batch 003/019 | Loss: 0.01\n",
      "Epoch: 008/010 | Batch 004/019 | Loss: 0.26\n",
      "Epoch: 008/010 | Batch 005/019 | Loss: 0.01\n",
      "Epoch: 008/010 | Batch 006/019 | Loss: 0.01\n",
      "Epoch: 008/010 | Batch 007/019 | Loss: 0.01\n",
      "Epoch: 008/010 | Batch 008/019 | Loss: 0.01\n",
      "Epoch: 008/010 | Batch 009/019 | Loss: 0.01\n",
      "Epoch: 008/010 | Batch 010/019 | Loss: 0.03\n",
      "Epoch: 008/010 | Batch 011/019 | Loss: 0.02\n",
      "Epoch: 008/010 | Batch 012/019 | Loss: 0.02\n",
      "Epoch: 008/010 | Batch 013/019 | Loss: 0.02\n",
      "Epoch: 008/010 | Batch 014/019 | Loss: 0.02\n",
      "Epoch: 008/010 | Batch 015/019 | Loss: 0.02\n",
      "Epoch: 008/010 | Batch 016/019 | Loss: 0.21\n",
      "Epoch: 008/010 | Batch 017/019 | Loss: 0.02\n",
      "Epoch: 008/010 | Batch 018/019 | Loss: 0.08\n",
      "Epoch: 008/010 | Batch 019/019 | Loss: 0.15\n",
      "Epoch: 008/010 train acc: 100.000 % | val acc: 95.833 % | time: 2.651 s\n",
      "Epoch: 009/010 | Batch 000/019 | Loss: 0.07\n",
      "Epoch: 009/010 | Batch 001/019 | Loss: 0.01\n",
      "Epoch: 009/010 | Batch 002/019 | Loss: 0.02\n",
      "Epoch: 009/010 | Batch 003/019 | Loss: 0.02\n",
      "Epoch: 009/010 | Batch 004/019 | Loss: 0.02\n",
      "Epoch: 009/010 | Batch 005/019 | Loss: 0.10\n",
      "Epoch: 009/010 | Batch 006/019 | Loss: 0.15\n",
      "Epoch: 009/010 | Batch 007/019 | Loss: 0.00\n",
      "Epoch: 009/010 | Batch 008/019 | Loss: 0.16\n",
      "Epoch: 009/010 | Batch 009/019 | Loss: 0.00\n",
      "Epoch: 009/010 | Batch 010/019 | Loss: 0.01\n",
      "Epoch: 009/010 | Batch 011/019 | Loss: 0.20\n",
      "Epoch: 009/010 | Batch 012/019 | Loss: 0.01\n",
      "Epoch: 009/010 | Batch 013/019 | Loss: 0.43\n"
     ]
    },
    {
     "name": "stdout",
     "output_type": "stream",
     "text": [
      "Epoch: 009/010 | Batch 014/019 | Loss: 0.06\n",
      "Epoch: 009/010 | Batch 015/019 | Loss: 0.00\n",
      "Epoch: 009/010 | Batch 016/019 | Loss: 0.02\n",
      "Epoch: 009/010 | Batch 017/019 | Loss: 0.28\n",
      "Epoch: 009/010 | Batch 018/019 | Loss: 0.17\n",
      "Epoch: 009/010 | Batch 019/019 | Loss: 0.08\n",
      "Epoch: 009/010 train acc: 100.000 % | val acc: 95.833 % | time: 2.662 s\n",
      "Epoch: 010/010 | Batch 000/019 | Loss: 0.04\n",
      "Epoch: 010/010 | Batch 001/019 | Loss: 0.11\n",
      "Epoch: 010/010 | Batch 002/019 | Loss: 0.03\n",
      "Epoch: 010/010 | Batch 003/019 | Loss: 0.01\n",
      "Epoch: 010/010 | Batch 004/019 | Loss: 0.01\n",
      "Epoch: 010/010 | Batch 005/019 | Loss: 0.01\n",
      "Epoch: 010/010 | Batch 006/019 | Loss: 0.01\n",
      "Epoch: 010/010 | Batch 007/019 | Loss: 0.02\n",
      "Epoch: 010/010 | Batch 008/019 | Loss: 0.01\n",
      "Epoch: 010/010 | Batch 009/019 | Loss: 0.01\n",
      "Epoch: 010/010 | Batch 010/019 | Loss: 0.02\n",
      "Epoch: 010/010 | Batch 011/019 | Loss: 0.08\n",
      "Epoch: 010/010 | Batch 012/019 | Loss: 0.11\n",
      "Epoch: 010/010 | Batch 013/019 | Loss: 0.01\n",
      "Epoch: 010/010 | Batch 014/019 | Loss: 0.01\n",
      "Epoch: 010/010 | Batch 015/019 | Loss: 0.01\n",
      "Epoch: 010/010 | Batch 016/019 | Loss: 0.01\n",
      "Epoch: 010/010 | Batch 017/019 | Loss: 0.01\n",
      "Epoch: 010/010 | Batch 018/019 | Loss: 0.02\n",
      "Epoch: 010/010 | Batch 019/019 | Loss: 0.06\n",
      "Epoch: 010/010 train acc: 100.000 % | val acc: 100.000 % | time: 2.665 s\n"
     ]
    }
   ],
   "source": [
    "model, loss_list, train_acc_list, valid_acc_list = train_model(model, \n",
    "            dataset_loader, \n",
    "            optimizer, \n",
    "            NUM_EPOCHS, \n",
    "            device = DEVICE, \n",
    "            batch_size = BATCH_SIZE,\n",
    "            metric_func = compute_accuracy)"
   ]
  },
  {
   "cell_type": "markdown",
   "metadata": {},
   "source": [
    "## Result"
   ]
  },
  {
   "cell_type": "code",
   "execution_count": 155,
   "metadata": {},
   "outputs": [
    {
     "data": {
      "image/png": "[encoded data removed]",
      "text/plain": [
       "<Figure size 432x288 with 1 Axes>"
      ]
     },
     "metadata": {
      "needs_background": "light"
     },
     "output_type": "display_data"
    }
   ],
   "source": [
    "plt.plot(loss_list, label='Minibatch cost')\n",
    "plt.plot(np.convolve(loss_list, \n",
    "                     np.ones(5,)/5, mode='valid'), \n",
    "         label='Running average')\n",
    "\n",
    "plt.ylabel('Cross Entropy')\n",
    "plt.xlabel('Iteration')\n",
    "plt.legend()\n",
    "plt.show()"
   ]
  },
  {
   "cell_type": "code",
   "execution_count": 156,
   "metadata": {},
   "outputs": [
    {
     "data": {
      "image/png": "[encoded data removed]",
      "text/plain": [
       "<Figure size 432x288 with 1 Axes>"
      ]
     },
     "metadata": {
      "needs_background": "light"
     },
     "output_type": "display_data"
    }
   ],
   "source": [
    "plt.plot(np.arange(1, NUM_EPOCHS+1), train_acc_list, label='Training')\n",
    "plt.plot(np.arange(1, NUM_EPOCHS+1), valid_acc_list, label='Validation')\n",
    "\n",
    "plt.xlabel('Epoch')\n",
    "plt.ylabel('Accuracy')\n",
    "plt.legend()\n",
    "plt.show()\n"
   ]
  },
  {
   "cell_type": "code",
   "execution_count": 157,
   "metadata": {},
   "outputs": [
    {
     "name": "stdout",
     "output_type": "stream",
     "text": [
      "Test ACC: 100.00%\n"
     ]
    }
   ],
   "source": [
    "with torch.set_grad_enabled(False):\n",
    "    test_acc = compute_accuracy(model=model,\n",
    "                           data_loader=dataset_loader[\"test\"],\n",
    "                           device=DEVICE)\n",
    "\n",
    "print(f'Test ACC: {test_acc:.2f}%')"
   ]
  },
  {
   "cell_type": "code",
   "execution_count": null,
   "metadata": {},
   "outputs": [],
   "source": []
  }
 ],
 "metadata": {
  "kernelspec": {
   "display_name": "tryit",
   "language": "python",
   "name": "tryit"
  },
  "language_info": {
   "codemirror_mode": {
    "name": "ipython",
    "version": 3
   },
   "file_extension": ".py",
   "mimetype": "text/x-python",
   "name": "python",
   "nbconvert_exporter": "python",
   "pygments_lexer": "ipython3",
   "version": "3.6.9"
  }
 },
 "nbformat": 4,
 "nbformat_minor": 4
}
